{
  "nbformat": 4,
  "nbformat_minor": 0,
  "metadata": {
    "colab": {
      "provenance": [],
      "collapsed_sections": [],
      "mount_file_id": "1vu2M4XCThCtFHZASp_rLBFy4Ql7wyd_F",
      "authorship_tag": "ABX9TyOpAUhBBGfNsv8WQ7+G26eF",
      "include_colab_link": true
    },
    "kernelspec": {
      "name": "python3",
      "display_name": "Python 3"
    },
    "language_info": {
      "name": "python"
    },
    "accelerator": "GPU",
    "gpuClass": "standard"
  },
  "cells": [
    {
      "cell_type": "markdown",
      "metadata": {
        "id": "view-in-github",
        "colab_type": "text"
      },
      "source": [
        "<a href=\"https://colab.research.google.com/github/dainfinity/PyEx2/blob/master/FreeFall/PINN_FreeFall.ipynb\" target=\"_parent\"><img src=\"https://colab.research.google.com/assets/colab-badge.svg\" alt=\"Open In Colab\"/></a>"
      ]
    },
    {
      "cell_type": "code",
      "source": [
        "[![Open In Colab](https://colab.research.google.com/assets/colab-badge.svg)](https://colab.research.google.com/github/dainfinity/PyEx2/blob/master/FreeFall/PINN_FreeFall.ipynb)"
      ],
      "metadata": {
        "id": "AA9ls1iAHWKP"
      },
      "execution_count": null,
      "outputs": []
    },
    {
      "cell_type": "markdown",
      "source": [
        "# 必要なライブラリのインストールと、インポート\n",
        "(pyDOEは結局使っていない気がする)"
      ],
      "metadata": {
        "id": "HehM8GfJnB19"
      }
    },
    {
      "cell_type": "code",
      "execution_count": null,
      "metadata": {
        "colab": {
          "base_uri": "https://localhost:8080/"
        },
        "id": "tkCm1dC7ffMz",
        "outputId": "dc3442e6-3dbf-4775-b3d0-600c1f523d0e"
      },
      "outputs": [
        {
          "output_type": "stream",
          "name": "stdout",
          "text": [
            "Looking in indexes: https://pypi.org/simple, https://us-python.pkg.dev/colab-wheels/public/simple/\n",
            "Collecting pyDOE\n",
            "  Downloading pyDOE-0.3.8.zip (22 kB)\n",
            "Requirement already satisfied: numpy in /usr/local/lib/python3.7/dist-packages (from pyDOE) (1.21.6)\n",
            "Requirement already satisfied: scipy in /usr/local/lib/python3.7/dist-packages (from pyDOE) (1.7.3)\n",
            "Building wheels for collected packages: pyDOE\n",
            "  Building wheel for pyDOE (setup.py) ... \u001b[?25l\u001b[?25hdone\n",
            "  Created wheel for pyDOE: filename=pyDOE-0.3.8-py3-none-any.whl size=18184 sha256=aa321abbc1964451df3d927c6a846f139e0ca1ab598a91fba5b3fb28321aeb98\n",
            "  Stored in directory: /root/.cache/pip/wheels/83/ce/8a/87b25c685bfeca1872d13b8dc101e087a9c6e3fb5ebb47022a\n",
            "Successfully built pyDOE\n",
            "Installing collected packages: pyDOE\n",
            "Successfully installed pyDOE-0.3.8\n"
          ]
        }
      ],
      "source": [
        "!pip install pyDOE"
      ]
    },
    {
      "cell_type": "code",
      "source": [
        "import torch\n",
        "import torch.autograd as autograd         # computation graph\n",
        "from torch import Tensor                  # tensor node in the computation graph\n",
        "import torch.nn as nn                     # neural networks\n",
        "import torch.optim as optim               # optimizers e.g. gradient descent, ADAM, etc.\n",
        "\n",
        "import matplotlib.pyplot as plt\n",
        "import matplotlib.gridspec as gridspec\n",
        "from mpl_toolkits.axes_grid1 import make_axes_locatable\n",
        "from mpl_toolkits.mplot3d import Axes3D\n",
        "import matplotlib.ticker\n",
        "\n",
        "import numpy as np\n",
        "import time\n",
        "from pyDOE import lhs         #Latin Hypercube Sampling\n",
        "import scipy.io\n",
        "from IPython.display import clear_output\n",
        "\n",
        "#Set default dtype to float32\n",
        "torch.set_default_dtype(torch.float)\n",
        "\n",
        "#PyTorch random number generator\n",
        "torch.manual_seed(1234)\n",
        "\n",
        "# Random number generators in other libraries\n",
        "np.random.seed(1234)\n",
        "\n",
        "# Device configuration\n",
        "device = torch.device('cuda' if torch.cuda.is_available() else 'cpu')\n",
        "\n",
        "print(device)\n",
        "\n",
        "if device == 'cuda': \n",
        "    print(torch.cuda.get_device_name()) \n",
        "torch.set_default_tensor_type('torch.cuda.FloatTensor')"
      ],
      "metadata": {
        "colab": {
          "base_uri": "https://localhost:8080/"
        },
        "id": "hkP4g24nfrBY",
        "outputId": "1fdcac36-feeb-4c98-c678-260631b45b08"
      },
      "execution_count": null,
      "outputs": [
        {
          "output_type": "stream",
          "name": "stdout",
          "text": [
            "cuda\n"
          ]
        }
      ]
    },
    {
      "cell_type": "markdown",
      "source": [
        "# モデル構築"
      ],
      "metadata": {
        "id": "zQZ2lF1QnXhK"
      }
    },
    {
      "cell_type": "code",
      "source": [
        "class PINNsModel(nn.Module):\n",
        "  def __init__(self, layers):\n",
        "    super().__init__()\n",
        "    'activation function'\n",
        "    self.activation = nn.Tanh()\n",
        "\n",
        "    'loss function'\n",
        "    self.loss_function = nn.MSELoss(reduction ='mean')\n",
        "\n",
        "    'Initialise neural network as a list using nn.Modulelist'  \n",
        "    self.linears = nn.ModuleList([nn.Linear(layers[i], layers[i+1]) for i in range(len(layers)-1)])\n",
        "    \n",
        "    self.iter = 0\n",
        "\n",
        "    'Xavier Normal Initialization'\n",
        "    # std = gain * sqrt(2/(input_dim+output_dim))\n",
        "    for i in range(len(layers)-1):\n",
        "        \n",
        "        # weights from a normal distribution with \n",
        "        # Recommended gain value for tanh = 5/3?\n",
        "        nn.init.xavier_normal_(self.linears[i].weight.data, gain=1.0)\n",
        "        \n",
        "        # set biases to zero\n",
        "        nn.init.zeros_(self.linears[i].bias.data)\n",
        "\n",
        "  def forward(self,X):\n",
        "        \n",
        "    if torch.is_tensor(X) != True:         \n",
        "        X = torch.from_numpy(X).float().to(device).clone()\n",
        "                  \n",
        "    #preprocessing input \n",
        "    X_s = (X - lb_tf)/(ub_tf - lb_tf)  #feature scaling\n",
        "    \n",
        "    #convert to float\n",
        "    a = X_s.float()\n",
        "\n",
        "    for i in range(len(layers)-2):\n",
        "        \n",
        "        z = self.linears[i](a)\n",
        "                    \n",
        "        a = self.activation(z)\n",
        "        \n",
        "    a = self.linears[-1](a)\n",
        "    \n",
        "    return a\n",
        "    \n",
        "  def loss_z0(self,X0, z0):\n",
        "\n",
        "    loss_z0 = self.loss_function(self.forward(X0), z0)\n",
        "\n",
        "    return loss_z0\n",
        "\n",
        "  def loss_v0_z(self, X0,v0z):\n",
        "\n",
        "    h = X0.clone()\n",
        "\n",
        "    h.requires_grad = True\n",
        "\n",
        "    z0 = self.forward(h)\n",
        "\n",
        "    z0_t = autograd.grad(z0,h,torch.ones([X0.shape[0], 1]).to(device), retain_graph=True, create_graph=True)[0]\n",
        "\n",
        "    loss_v0_z = self.loss_function(v0z, z0_t)\n",
        "\n",
        "    return loss_v0_z\n",
        "  \n",
        "  def loss_fz(self,X_to_train_f):\n",
        "\n",
        "    grav_ac = 9.8 #重力加速度\n",
        "\n",
        "    g = X_to_train_f.clone()\n",
        "                        \n",
        "    g.requires_grad = True\n",
        "        \n",
        "    z = self.forward(g)\n",
        "\n",
        "    z_t = autograd.grad(z,g,torch.ones([X_to_train_f.shape[0], 1]).to(device), retain_graph=True, create_graph=True)[0]\n",
        "\n",
        "    z_tt = autograd.grad(z_t,g,torch.ones(X_to_train_f.shape).to(device), create_graph=True)[0]\n",
        "\n",
        "    f = z_tt + grav_ac\n",
        "\n",
        "    loss_fz = self.loss_function(f,fz0_tf)\n",
        "\n",
        "    return loss_fz\n",
        "    \n",
        "\n",
        "  def loss(self, X0, z0, v0z, X_to_train_f):\n",
        "\n",
        "    loss_z0 = self.loss_z0(X0, z0)\n",
        "\n",
        "    loss_v0_z = self.loss_v0_z(X0, v0z)\n",
        "\n",
        "    loss_fz = self.loss_fz(X_to_train_f)\n",
        "\n",
        "    loss = loss_z0 + loss_v0_z + loss_fz\n",
        "\n",
        "    return loss\n",
        "\n",
        "\n",
        "  def closure(self):\n",
        "          \n",
        "    optimizer.zero_grad()\n",
        "    \n",
        "    loss = self.loss(X0_tf, z0_tf, v0_z_tf, X_tf)\n",
        "    \n",
        "    loss.backward(retain_graph=True)\n",
        "            \n",
        "    self.iter += 1\n",
        "    \n",
        "    if self.iter % 100 == 0:\n",
        "\n",
        "        error_vec, _ = PINN.test()\n",
        "    \n",
        "        print(loss, error_vec)\n",
        "\n",
        "    return loss   \n",
        "\n",
        "  def test(self):\n",
        "                \n",
        "        z_pred = self.forward(X_sol)\n",
        "        \n",
        "        error_vec = torch.linalg.norm((z_sol-z_pred),2)/torch.linalg.norm(z_sol,2)        # Relative L2 Norm of the error (Vector)\n",
        "        \n",
        "        z_pred = z_pred.cpu().detach().numpy()\n",
        "                \n",
        "        return error_vec, z_pred"
      ],
      "metadata": {
        "id": "VD6fv10Yf0Af"
      },
      "execution_count": null,
      "outputs": []
    },
    {
      "cell_type": "markdown",
      "source": [
        "# 入力変数、初期条件、微分方程式lossに必要なデータを作る。"
      ],
      "metadata": {
        "id": "Fs5OcsSingO5"
      }
    },
    {
      "cell_type": "code",
      "source": [
        "N = 10000\n",
        "t_f = [0, 1]\n",
        "v_z0_f = [0, 5]\n",
        "\n",
        "# 入出力変数を作成\n",
        "t0 = np.zeros([N, 1])\n",
        "t0_tf = torch.from_numpy(t0).clone().float().to(device)\n",
        "z0 = np.zeros([N, 1])\n",
        "z0_tf = torch.from_numpy(z0).clone().float().to(device)\n",
        "\n",
        "t_f_min = t_f[0]\n",
        "t_f_len = t_f[1] - t_f[0]\n",
        "\n",
        "t_f = t_f_len * np.random.rand(N, 1) + t_f_min\n",
        "\n",
        "X = t_f\n",
        "X0 = t0\n",
        "\n",
        "lb = X.min()\n",
        "ub = X.max()\n",
        "\n",
        "# テンソルに変換\n",
        "X_tf = torch.from_numpy(X).clone().float().to(device).clone()\n",
        "X0_tf = torch.from_numpy(X0).clone().float().to(device).clone()\n",
        "\n",
        "# 微分方程式に関する損失を計算するために必要な0テンソル\n",
        "fz0_tf = torch.zeros(X_tf.shape[0],1).to(device)\n",
        "v0_z_tf = torch.zeros(X_tf.shape[0],1).to(device)\n",
        "\n",
        "lb_tf = lb + torch.zeros(X_tf.shape[0],1).to(device)\n",
        "ub_tf = ub + torch.zeros(X_tf.shape[0],1).to(device)"
      ],
      "metadata": {
        "id": "8fDpRNJvga05"
      },
      "execution_count": null,
      "outputs": []
    },
    {
      "cell_type": "code",
      "source": [
        "print(X_tf.shape)\n",
        "print(z0_tf.shape)\n",
        "print(X0_tf.shape)\n",
        "print(v0_z_tf.shape)\n",
        "print(fz0_tf.shape)\n",
        "print(lb_tf.shape)\n",
        "print(ub_tf.shape)"
      ],
      "metadata": {
        "colab": {
          "base_uri": "https://localhost:8080/"
        },
        "id": "cFp3LkPFj4Fw",
        "outputId": "cef57441-b917-4157-a619-637548d937b2"
      },
      "execution_count": null,
      "outputs": [
        {
          "output_type": "stream",
          "name": "stdout",
          "text": [
            "torch.Size([10000, 1])\n",
            "torch.Size([10000, 1])\n",
            "torch.Size([10000, 1])\n",
            "torch.Size([10000, 1])\n",
            "torch.Size([10000, 1])\n",
            "torch.Size([10000, 1])\n",
            "torch.Size([10000, 1])\n"
          ]
        }
      ]
    },
    {
      "cell_type": "code",
      "source": [
        "# testデータを作成(解析解)\n",
        "import pandas as pd\n",
        "\n",
        "n = 10000\n",
        "gra = 9.8\n",
        "z0 = 0\n",
        "v0z_sol = 0\n",
        "t_sol = np.linspace(0,1,n)\n",
        "t_sol = t_sol.reshape(n,1)\n",
        "# testの入力\n",
        "X_sol = torch.from_numpy(t_sol).clone().float().to(device).clone()\n",
        "X_sol = X_sol\n",
        "# testの出力\n",
        "z_sol = z0 + v0z_sol * X_sol - 1 / 2 * gra * X_sol ** 2"
      ],
      "metadata": {
        "id": "pNuH8UwchW_a"
      },
      "execution_count": null,
      "outputs": []
    },
    {
      "cell_type": "code",
      "source": [
        "print(X_sol.shape)\n",
        "print(z_sol.shape)"
      ],
      "metadata": {
        "colab": {
          "base_uri": "https://localhost:8080/"
        },
        "id": "8JrcJaPusfv-",
        "outputId": "6d3c3dfe-8e94-4c4a-9923-ebe84fca1df5"
      },
      "execution_count": null,
      "outputs": [
        {
          "output_type": "stream",
          "name": "stdout",
          "text": [
            "torch.Size([10000, 1])\n",
            "torch.Size([10000, 1])\n"
          ]
        }
      ]
    },
    {
      "cell_type": "markdown",
      "source": [
        "# 学習、評価"
      ],
      "metadata": {
        "id": "eqBuKbG3nrG3"
      }
    },
    {
      "cell_type": "code",
      "source": [
        "layers = np.array([1,20,20,20,20,20,20,20,20,1]) #8 hidden layers\n",
        "\n",
        "PINN = PINNsModel(layers)\n",
        "       \n",
        "PINN.to(device)\n",
        "\n",
        "'Neural Network Summary'\n",
        "print(PINN)\n",
        "\n",
        "params = list(PINN.parameters())\n",
        "\n",
        "'''Optimization'''\n",
        "\n",
        "'L-BFGS Optimizer'\n",
        "optimizer = torch.optim.LBFGS(PINN.parameters(), lr=0.1, \n",
        "                              max_iter = 250, \n",
        "                              max_eval = None, \n",
        "                              tolerance_grad = 1e-05, \n",
        "                              tolerance_change = 1e-09, \n",
        "                              history_size = 100, \n",
        "                              line_search_fn = 'strong_wolfe')\n",
        "\n",
        "start_time = time.time()\n",
        "\n",
        "optimizer.step(PINN.closure)\n",
        "\n",
        "\n",
        "'Adam Optimizer'\n",
        "optimizer = optim.Adam(PINN.parameters(), lr=0.001,betas=(0.9, 0.999), eps=1e-08, weight_decay=0, amsgrad=False)\n",
        "\n",
        "max_iter = 20000\n",
        "\n",
        "start_time = time.time()\n",
        "\n",
        "for i in range(max_iter):\n",
        "\n",
        "    loss = PINN.loss(X0_tf, z0_tf, v0_z_tf, X_tf)\n",
        "           \n",
        "    optimizer.zero_grad()     # zeroes the gradient buffers of all parameters\n",
        "    \n",
        "    loss.backward() #backprop\n",
        "\n",
        "    optimizer.step()\n",
        "    \n",
        "    if i % (max_iter/10) == 0:\n",
        "\n",
        "        error_vec, _ = PINN.test()\n",
        "\n",
        "        print(loss, error_vec)\n",
        "    \n",
        "    \n",
        "elapsed = time.time() - start_time                \n",
        "print('Training time: %.2f' % (elapsed))"
      ],
      "metadata": {
        "colab": {
          "base_uri": "https://localhost:8080/"
        },
        "id": "mzaDH6_2iD_9",
        "outputId": "97495c7e-b342-4efc-b19a-142fc1461caa"
      },
      "execution_count": null,
      "outputs": [
        {
          "output_type": "stream",
          "name": "stdout",
          "text": [
            "PINNsModel(\n",
            "  (activation): Tanh()\n",
            "  (loss_function): MSELoss()\n",
            "  (linears): ModuleList(\n",
            "    (0): Linear(in_features=1, out_features=20, bias=True)\n",
            "    (1): Linear(in_features=20, out_features=20, bias=True)\n",
            "    (2): Linear(in_features=20, out_features=20, bias=True)\n",
            "    (3): Linear(in_features=20, out_features=20, bias=True)\n",
            "    (4): Linear(in_features=20, out_features=20, bias=True)\n",
            "    (5): Linear(in_features=20, out_features=20, bias=True)\n",
            "    (6): Linear(in_features=20, out_features=20, bias=True)\n",
            "    (7): Linear(in_features=20, out_features=20, bias=True)\n",
            "    (8): Linear(in_features=20, out_features=1, bias=True)\n",
            "  )\n",
            ")\n",
            "tensor(0.0714, grad_fn=<AddBackward0>) tensor(0.0097, grad_fn=<DivBackward0>)\n",
            "tensor(0.0002, grad_fn=<AddBackward0>) tensor(8.9702e-05, grad_fn=<DivBackward0>)\n",
            "tensor(1.9952e-05, grad_fn=<AddBackward0>) tensor(6.5560e-05, grad_fn=<DivBackward0>)\n",
            "tensor(1.8460e-05, grad_fn=<AddBackward0>) tensor(0.8070, grad_fn=<DivBackward0>)\n",
            "tensor(2.2451e-05, grad_fn=<AddBackward0>) tensor(9.5029e-05, grad_fn=<DivBackward0>)\n",
            "tensor(1.1776e-05, grad_fn=<AddBackward0>) tensor(2.1033e-05, grad_fn=<DivBackward0>)\n",
            "tensor(0.0043, grad_fn=<AddBackward0>) tensor(0.0106, grad_fn=<DivBackward0>)\n",
            "tensor(0.0173, grad_fn=<AddBackward0>) tensor(0.0110, grad_fn=<DivBackward0>)\n",
            "tensor(0.0109, grad_fn=<AddBackward0>) tensor(0.0083, grad_fn=<DivBackward0>)\n",
            "tensor(0.0003, grad_fn=<AddBackward0>) tensor(0.0013, grad_fn=<DivBackward0>)\n",
            "tensor(0.0070, grad_fn=<AddBackward0>) tensor(0.0117, grad_fn=<DivBackward0>)\n",
            "tensor(0.0040, grad_fn=<AddBackward0>) tensor(0.0049, grad_fn=<DivBackward0>)\n",
            "tensor(0.0004, grad_fn=<AddBackward0>) tensor(0.0039, grad_fn=<DivBackward0>)\n",
            "Training time: 340.33\n"
          ]
        }
      ]
    },
    {
      "cell_type": "code",
      "source": [
        "_, z_pred = PINN.test()\n",
        "print(z_pred)\n",
        "print(z_pred.shape)"
      ],
      "metadata": {
        "colab": {
          "base_uri": "https://localhost:8080/"
        },
        "id": "A_tXyVZKjn88",
        "outputId": "8a25a3eb-cda1-4086-c808-d03134c40640"
      },
      "execution_count": null,
      "outputs": [
        {
          "output_type": "stream",
          "name": "stdout",
          "text": [
            "[[ 0.01659024]\n",
            " [ 0.01658922]\n",
            " [ 0.01659089]\n",
            " ...\n",
            " [-4.8712373 ]\n",
            " [-4.8722143 ]\n",
            " [-4.873192  ]]\n",
            "(10000, 1)\n"
          ]
        }
      ]
    },
    {
      "cell_type": "markdown",
      "source": [
        "# 解析解との比較\n"
      ],
      "metadata": {
        "id": "oTA6wlU8nuxz"
      }
    },
    {
      "cell_type": "code",
      "source": [
        "plt.plot(t_sol, z_pred, label = \"pred\", linestyle = \"dashed\")\n",
        "plt.plot(t_sol, -1/2 * 9.8 * t_sol ** 2, label = \"exact\", linestyle = \"dashdot\")\n",
        "plt.xlabel(\"t\")\n",
        "plt.ylabel(\"z\")\n",
        "plt.title(\"freefall at $v_{0z}=0, z_0=0$\")\n",
        "plt.legend()\n",
        "plt.savefig(\"//content//drive//MyDrive//PhyEx2//freeFall_result.png\")\n",
        "plt.show()"
      ],
      "metadata": {
        "colab": {
          "base_uri": "https://localhost:8080/",
          "height": 297
        },
        "id": "HEBxF0qQxwnm",
        "outputId": "fdce8f0c-d3aa-41b8-c86e-4d23661e1522"
      },
      "execution_count": null,
      "outputs": [
        {
          "output_type": "display_data",
          "data": {
            "text/plain": [
              "<Figure size 432x288 with 1 Axes>"
            ],
            "image/png": "[encoded data removed]"
          },
          "metadata": {
            "needs_background": "light"
          }
        }
      ]
    },
    {
      "cell_type": "markdown",
      "source": [
        "# Runge-Kutta法との比較"
      ],
      "metadata": {
        "id": "ispm2VPD_wVV"
      }
    },
    {
      "cell_type": "code",
      "source": [
        "import numpy as np\n",
        "\n",
        "g = 9.81 #重力加速度(m/s^2)\n",
        "k = 0 #空気抵抗なし\n",
        "m = 10.0 #ボール重さ(kg)\n",
        "\n",
        "def f(v): #関数の定義\n",
        "    return (m*g-k*v**2)/m\n",
        "\n",
        "vtrj = [0.0] #速度のtrajectory配列\n",
        "xtrj = [0.0] #位置のtrajectory配列\n",
        "array_t = [0.0] #時間発展配列\n",
        "\n",
        "v = vtrj[0] #初期速度\n",
        "x = xtrj[0] #初期位置\n",
        "t = array_t[0] #初期時間\n",
        "h = 0.0001 #ルンゲクッタ法の刻み幅\n",
        "\n",
        "#ルンゲクッタ法のメイン計算\n",
        "while x >= -5.0 :\n",
        "    k1 = h*f(v)\n",
        "    k2 = h*f(v+0.5*k1)\n",
        "    k3 = h*f(v+0.5*k2)\n",
        "    k4 = h*f(v+k3)\n",
        "    v = v + (k1+2*k2+2*k3+k4)/6\n",
        "    x = x - v*h\n",
        "    t = t + h\n",
        "    vtrj = np.append(vtrj,v)\n",
        "    xtrj = np.append(xtrj,x)\n",
        "    array_t = np.append(array_t,t)\n",
        "  \n",
        "plt.plot(t_sol, z_pred, label = \"pred\", linestyle = \"dashed\")\n",
        "plt.plot(array_t,xtrj, label = \"Runge-Kutta\")\n",
        "plt.plot(t_sol, -1/2 * 9.8 * t_sol ** 2, label = \"exact\", linestyle = \"dashdot\")\n",
        "plt.xlabel(\"t\")\n",
        "plt.ylabel(\"z\")\n",
        "plt.title(\"freefall at $v_{0z}=0, z_0=0$\")\n",
        "plt.legend()\n",
        "plt.show()"
      ],
      "metadata": {
        "id": "N8NMo4wkyNqy",
        "colab": {
          "base_uri": "https://localhost:8080/",
          "height": 297
        },
        "outputId": "cbc4b255-c976-4a62-ef84-3b934314d30c"
      },
      "execution_count": null,
      "outputs": [
        {
          "output_type": "display_data",
          "data": {
            "text/plain": [
              "<Figure size 432x288 with 1 Axes>"
            ],
            "image/png": "[encoded data removed]"
          },
          "metadata": {
            "needs_background": "light"
          }
        }
      ]
    },
    {
      "cell_type": "code",
      "source": [],
      "metadata": {
        "id": "KpSPgzyEATKe"
      },
      "execution_count": null,
      "outputs": []
    }
  ]
}