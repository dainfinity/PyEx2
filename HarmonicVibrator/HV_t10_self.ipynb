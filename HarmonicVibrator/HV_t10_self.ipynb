{
  "nbformat": 4,
  "nbformat_minor": 0,
  "metadata": {
    "colab": {
      "provenance": [],
      "authorship_tag": "ABX9TyPNIwRuMAi9EyjoIz2KTDbw",
      "include_colab_link": true
    },
    "kernelspec": {
      "name": "python3",
      "display_name": "Python 3"
    },
    "language_info": {
      "name": "python"
    },
    "accelerator": "GPU",
    "gpuClass": "standard"
  },
  "cells": [
    {
      "cell_type": "markdown",
      "metadata": {
        "id": "view-in-github",
        "colab_type": "text"
      },
      "source": [
        "<a href=\"https://colab.research.google.com/github/dainfinity/PyEx2/blob/master/HarmonicVibrator/HV_t10_self.ipynb\" target=\"_parent\"><img src=\"https://colab.research.google.com/assets/colab-badge.svg\" alt=\"Open In Colab\"/></a>"
      ]
    },
    {
      "cell_type": "markdown",
      "source": [
        "# ライブラリをインストール"
      ],
      "metadata": {
        "id": "tUTwdFXk8BES"
      }
    },
    {
      "cell_type": "code",
      "execution_count": null,
      "metadata": {
        "colab": {
          "base_uri": "https://localhost:8080/"
        },
        "id": "bTwJ7LjH7zqn",
        "outputId": "cda8cad5-b93c-4ca5-e23d-bf530e74ce0c"
      },
      "outputs": [
        {
          "output_type": "stream",
          "name": "stdout",
          "text": [
            "cuda\n"
          ]
        }
      ],
      "source": [
        "import torch\n",
        "import torch.autograd as autograd         # computation graph\n",
        "from torch import Tensor                  # tensor node in the computation graph\n",
        "import torch.nn as nn                     # neural networks\n",
        "import torch.optim as optim               # optimizers e.g. gradient descent, ADAM, etc.\n",
        "\n",
        "import matplotlib.pyplot as plt\n",
        "import matplotlib.gridspec as gridspec\n",
        "from mpl_toolkits.axes_grid1 import make_axes_locatable\n",
        "from mpl_toolkits.mplot3d import Axes3D\n",
        "import matplotlib.ticker\n",
        "\n",
        "import numpy as np\n",
        "import time\n",
        "import scipy.io\n",
        "from IPython.display import clear_output\n",
        "\n",
        "#Set default dtype to float32\n",
        "torch.set_default_dtype(torch.float)\n",
        "\n",
        "#PyTorch random number generator\n",
        "torch.manual_seed(1234)\n",
        "\n",
        "# Random number generators in other libraries\n",
        "np.random.seed(1234)\n",
        "\n",
        "# Device configuration\n",
        "device = torch.device('cuda' if torch.cuda.is_available() else 'cpu')\n",
        "\n",
        "print(device)\n",
        "\n",
        "if device == 'cuda': \n",
        "    print(torch.cuda.get_device_name()) \n",
        "torch.set_default_tensor_type('torch.cuda.FloatTensor')"
      ]
    },
    {
      "cell_type": "markdown",
      "source": [
        "# モデル構築"
      ],
      "metadata": {
        "id": "GHoVwNe-8ISY"
      }
    },
    {
      "cell_type": "code",
      "source": [
        "class PINNsModel(nn.Module):\n",
        "\n",
        "  def __init__(self):\n",
        "    super().__init__()\n",
        "\n",
        "    # 層を定義\n",
        "    self.fc1_20 = nn.Linear(1,20)\n",
        "    self.fc20_20 = nn.Linear(20,20)\n",
        "    self.fc20_1 = nn.Linear(20,1)\n",
        "    self.tanh = nn.Tanh()\n",
        "\n",
        "    # 損失関数を定義\n",
        "    self.loss_function = nn.MSELoss(reduction ='mean')\n",
        "\n",
        "    # 重みを初期化\n",
        "    nn.init.xavier_normal_(self.fc1_20.weight.data, gain=1.0)\n",
        "    nn.init.xavier_normal_(self.fc20_20.weight.data, gain=1.0)\n",
        "    nn.init.xavier_normal_(self.fc20_1.weight.data, gain=1.0)\n",
        "\n",
        "    # バイアスを初期化\n",
        "    nn.init.zeros_(self.fc1_20.bias.data)\n",
        "    nn.init.zeros_(self.fc20_20.bias.data)\n",
        "    nn.init.zeros_(self.fc20_1.bias.data)\n",
        "\n",
        "  def forward(self,X):\n",
        "    if torch.is_tensor(X) != True:         \n",
        "        X = torch.from_numpy(X).float().to(device).clone()\n",
        "      \n",
        "    #入力の前処理\n",
        "    X_s = (X - lb_tf)/(ub_tf - lb_tf)  #正規化\n",
        "\n",
        "    #float型に変換\n",
        "    X_s = X_s.float()\n",
        "\n",
        "    # 順伝播\n",
        "    out = self.fc1_20(X_s)\n",
        "\n",
        "    for i in range(7):\n",
        "      out = self.tanh(out)\n",
        "      out = self.fc20_20(out)\n",
        "    \n",
        "    out = self.fc20_1(out)\n",
        "\n",
        "    return out\n",
        "\n",
        "\n",
        "  def loss(self, X0, x0_exa, v0_exa, X_to_train_f):\n",
        "\n",
        "    # 引数の説明\n",
        "    # X0:t=0での入力(t=0)\n",
        "    # x0_exa:初期値x(0)の教師データ\n",
        "    # v0_exa: 初速度v(0)の教師データ\n",
        "    # X_to_train_f: 入力t\n",
        "\n",
        "    # t=0での微分を計算\n",
        "    h = X0.clone()\n",
        "\n",
        "    h.requires_grad = True\n",
        "\n",
        "    x0 = self.forward(h)\n",
        "\n",
        "    x0_t = autograd.grad(x0,h,torch.ones([X0.shape[0], 1]).to(device), retain_graph=True, create_graph=True)[0]\n",
        "\n",
        "    # t=0以外での微分を計算\n",
        "    g = X_to_train_f.clone()\n",
        "                        \n",
        "    g.requires_grad = True\n",
        "        \n",
        "    x = self.forward(g)\n",
        "\n",
        "    x_t = autograd.grad(x,g,torch.ones([X_to_train_f.shape[0], 1]).to(device), retain_graph=True, create_graph=True)[0]\n",
        "\n",
        "    x_tt = autograd.grad(x_t,g,torch.ones(X_to_train_f.shape).to(device), create_graph=True)[0]\n",
        "\n",
        "    f = x_tt + omega ** 2 * x     # 1次元調和振動子の微分方程式の左辺を計算(すべて左辺に持ってきたと仮定)\n",
        "\n",
        "    # 初速度についてのloss\n",
        "    loss_v0 = self.loss_function(x0_t, v0_exa)\n",
        "\n",
        "    # 初期位置に対するloss\n",
        "    loss_x0 = self.loss_function(self.forward(X0), x0_exa)\n",
        "\n",
        "    # 微分方程式についてのloss\n",
        "    loss_f = self.loss_function(f,f0_tf)\n",
        "\n",
        "    # lossの合計\n",
        "    loss = loss_v0 + loss_x0 + loss_f\n",
        "\n",
        "    return loss\n",
        "\n",
        "\n",
        "  def test(self):\n",
        "\n",
        "    x_pred = self.forward(X_sol) #X_sol:解析解\n",
        "    \n",
        "    error_vec = torch.linalg.norm((x_sol-x_pred),2)/torch.linalg.norm(x_sol,2)\n",
        "    \n",
        "    x_pred = x_pred.cpu().detach().numpy()\n",
        "\n",
        "    test_error = error_vec.cpu().detach().numpy()\n",
        "\n",
        "    return error_vec, x_pred, test_error"
      ],
      "metadata": {
        "id": "VrbdvKxC8AnK"
      },
      "execution_count": null,
      "outputs": []
    },
    {
      "cell_type": "markdown",
      "source": [
        "# 入出力の変数を作成"
      ],
      "metadata": {
        "id": "BLE-ukW7JSSG"
      }
    },
    {
      "cell_type": "code",
      "source": [
        "N = 10000\n",
        "t_f = [0, 10]\n",
        "\n",
        "# 入出力変数を作成\n",
        "t0 = np.zeros([N, 1])\n",
        "t0_tf = torch.from_numpy(t0).clone().float().to(device)\n",
        "x0 = np.zeros([N, 1])\n",
        "x0_tf = torch.from_numpy(x0).clone().float().to(device)\n",
        "\n",
        "t_f_min = t_f[0]\n",
        "t_f_len = t_f[1] - t_f[0]\n",
        "\n",
        "t_f = t_f_len * np.random.rand(N, 1) + t_f_min\n",
        "\n",
        "X = t_f\n",
        "X0 = t0\n",
        "\n",
        "lb = X.min()\n",
        "ub = X.max()\n",
        "\n",
        "# テンソルに変換\n",
        "X_tf = torch.from_numpy(X).clone().float().to(device).clone()\n",
        "X0_tf = torch.from_numpy(X0).clone().float().to(device).clone()\n",
        "\n",
        "# 微分方程式に関する損失を計算するために必要な0テンソル\n",
        "f0_tf = torch.zeros(X_tf.shape[0],1).to(device)\n",
        "v0_x_tf = torch.zeros(X_tf.shape[0],1).to(device) + 5.0\n",
        "\n",
        "lb_tf = lb + torch.zeros(X_tf.shape[0],1).to(device)\n",
        "ub_tf = ub + torch.zeros(X_tf.shape[0],1).to(device)"
      ],
      "metadata": {
        "id": "M_PbOHuzJReq"
      },
      "execution_count": null,
      "outputs": []
    },
    {
      "cell_type": "markdown",
      "source": [
        "# testデータを作成"
      ],
      "metadata": {
        "id": "13aEcalaJziF"
      }
    },
    {
      "cell_type": "code",
      "source": [
        "gra = 9.8\n",
        "omega = 3.0\n",
        "z0 = 0\n",
        "v0_sol = 5.0\n",
        "t_sol = np.linspace(0,10,N)\n",
        "t_sol = t_sol.reshape(N,1)\n",
        "# testの入力\n",
        "X_sol = torch.from_numpy(t_sol).clone().float().to(device).clone()\n",
        "X_sol = X_sol\n",
        "# testの出力\n",
        "x_sol = v0_sol / omega * torch.sin(omega * X_sol)"
      ],
      "metadata": {
        "id": "6H0uH7F9J15i"
      },
      "execution_count": null,
      "outputs": []
    },
    {
      "cell_type": "markdown",
      "source": [
        "# 学習・推論"
      ],
      "metadata": {
        "id": "NxlTTFb3KoLI"
      }
    },
    {
      "cell_type": "code",
      "source": [
        "PINN = PINNsModel()\n",
        "       \n",
        "PINN.to(device)\n",
        "\n",
        "print(PINN)\n",
        "\n",
        "params = list(PINN.parameters())\n",
        "\n",
        "'Adam Optimizer'\n",
        "optimizer = optim.Adam(PINN.parameters(), lr=0.001,betas=(0.9, 0.999), eps=1e-08, weight_decay=0, amsgrad=False)\n",
        "\n",
        "max_iter = 80000\n",
        "\n",
        "start_time = time.time()\n",
        "\n",
        "error_list = []\n",
        "\n",
        "for i in range(max_iter):\n",
        "\n",
        "    loss = PINN.loss(X0_tf, x0_tf, v0_x_tf, X_tf)\n",
        "           \n",
        "    optimizer.zero_grad()     # zeroes the gradient buffers of all parameters\n",
        "    \n",
        "    loss.backward() #backprop\n",
        "\n",
        "    optimizer.step()\n",
        "\n",
        "    error_vec, _, test_error = PINN.test()\n",
        "\n",
        "    error_list.append(test_error)\n",
        "    \n",
        "    if i % (max_iter/10) == 0:\n",
        "\n",
        "        print(loss,error_vec)\n",
        "    \n",
        "    \n",
        "elapsed = time.time() - start_time                \n",
        "print('Training time: %.2f' % (elapsed))"
      ],
      "metadata": {
        "colab": {
          "base_uri": "https://localhost:8080/"
        },
        "id": "9YCpugXGKJUp",
        "outputId": "79bb5127-6592-4b63-f83c-032cb579a3b6"
      },
      "execution_count": null,
      "outputs": [
        {
          "output_type": "stream",
          "name": "stdout",
          "text": [
            "PINNsModel(\n",
            "  (fc1_20): Linear(in_features=1, out_features=20, bias=True)\n",
            "  (fc20_20): Linear(in_features=20, out_features=20, bias=True)\n",
            "  (fc20_1): Linear(in_features=20, out_features=1, bias=True)\n",
            "  (tanh): Tanh()\n",
            "  (loss_function): MSELoss()\n",
            ")\n",
            "tensor(26.7181, grad_fn=<AddBackward0>) tensor(1.0019, grad_fn=<DivBackward0>)\n",
            "tensor(0.7551, grad_fn=<AddBackward0>) tensor(0.7653, grad_fn=<DivBackward0>)\n",
            "tensor(0.6452, grad_fn=<AddBackward0>) tensor(0.7201, grad_fn=<DivBackward0>)\n",
            "tensor(0.6173, grad_fn=<AddBackward0>) tensor(0.6967, grad_fn=<DivBackward0>)\n",
            "tensor(0.5596, grad_fn=<AddBackward0>) tensor(0.6661, grad_fn=<DivBackward0>)\n",
            "tensor(0.5235, grad_fn=<AddBackward0>) tensor(0.6361, grad_fn=<DivBackward0>)\n",
            "tensor(0.5048, grad_fn=<AddBackward0>) tensor(0.6190, grad_fn=<DivBackward0>)\n",
            "tensor(0.4605, grad_fn=<AddBackward0>) tensor(0.5728, grad_fn=<DivBackward0>)\n",
            "tensor(0.0033, grad_fn=<AddBackward0>) tensor(0.0238, grad_fn=<DivBackward0>)\n",
            "tensor(0.0080, grad_fn=<AddBackward0>) tensor(0.0157, grad_fn=<DivBackward0>)\n",
            "Training time: 1169.62\n"
          ]
        }
      ]
    },
    {
      "cell_type": "markdown",
      "source": [
        "# testのerrorを描画"
      ],
      "metadata": {
        "id": "jyeeh4vZMC79"
      }
    },
    {
      "cell_type": "code",
      "source": [
        "plt.plot(error_list)\n",
        "\n",
        "plt.xlabel(\"epoch\")\n",
        "plt.ylabel(\"error\")\n",
        "plt.title(\"test_error\")\n",
        "\n",
        "plt.plot"
      ],
      "metadata": {
        "colab": {
          "base_uri": "https://localhost:8080/",
          "height": 313
        },
        "id": "wEqZo_DXMIh8",
        "outputId": "451a58ec-4a97-447d-bd42-61651a75da58"
      },
      "execution_count": null,
      "outputs": [
        {
          "output_type": "execute_result",
          "data": {
            "text/plain": [
              "<function matplotlib.pyplot.plot(*args, scalex=True, scaley=True, data=None, **kwargs)>"
            ]
          },
          "metadata": {},
          "execution_count": 11
        },
        {
          "output_type": "display_data",
          "data": {
            "text/plain": [
              "<Figure size 432x288 with 1 Axes>"
            ],
            "image/png": "[encoded data removed]"
          },
          "metadata": {
            "needs_background": "light"
          }
        }
      ]
    },
    {
      "cell_type": "markdown",
      "source": [
        "# 予測値と解析解を比較"
      ],
      "metadata": {
        "id": "qWyRzCo1LyPF"
      }
    },
    {
      "cell_type": "code",
      "source": [
        "# グラフ描画に日本語を適応するための設定\n",
        "!pip install japanize_matplotlib\n",
        "import japanize_matplotlib"
      ],
      "metadata": {
        "colab": {
          "base_uri": "https://localhost:8080/"
        },
        "id": "O5BOFR6rOl1t",
        "outputId": "ec85c7d3-6aa2-4b3c-9016-5bf4829d4b01"
      },
      "execution_count": null,
      "outputs": [
        {
          "output_type": "stream",
          "name": "stdout",
          "text": [
            "Looking in indexes: https://pypi.org/simple, https://us-python.pkg.dev/colab-wheels/public/simple/\n",
            "Collecting japanize_matplotlib\n",
            "  Downloading japanize-matplotlib-1.1.3.tar.gz (4.1 MB)\n",
            "\u001b[K     |████████████████████████████████| 4.1 MB 5.0 MB/s \n",
            "\u001b[?25hRequirement already satisfied: matplotlib in /usr/local/lib/python3.7/dist-packages (from japanize_matplotlib) (3.2.2)\n",
            "Requirement already satisfied: pyparsing!=2.0.4,!=2.1.2,!=2.1.6,>=2.0.1 in /usr/local/lib/python3.7/dist-packages (from matplotlib->japanize_matplotlib) (3.0.9)\n",
            "Requirement already satisfied: kiwisolver>=1.0.1 in /usr/local/lib/python3.7/dist-packages (from matplotlib->japanize_matplotlib) (1.4.4)\n",
            "Requirement already satisfied: python-dateutil>=2.1 in /usr/local/lib/python3.7/dist-packages (from matplotlib->japanize_matplotlib) (2.8.2)\n",
            "Requirement already satisfied: numpy>=1.11 in /usr/local/lib/python3.7/dist-packages (from matplotlib->japanize_matplotlib) (1.21.6)\n",
            "Requirement already satisfied: cycler>=0.10 in /usr/local/lib/python3.7/dist-packages (from matplotlib->japanize_matplotlib) (0.11.0)\n",
            "Requirement already satisfied: typing-extensions in /usr/local/lib/python3.7/dist-packages (from kiwisolver>=1.0.1->matplotlib->japanize_matplotlib) (4.1.1)\n",
            "Requirement already satisfied: six>=1.5 in /usr/local/lib/python3.7/dist-packages (from python-dateutil>=2.1->matplotlib->japanize_matplotlib) (1.15.0)\n",
            "Building wheels for collected packages: japanize-matplotlib\n",
            "  Building wheel for japanize-matplotlib (setup.py) ... \u001b[?25l\u001b[?25hdone\n",
            "  Created wheel for japanize-matplotlib: filename=japanize_matplotlib-1.1.3-py3-none-any.whl size=4120275 sha256=81be347b686d3fa276215cf5912182b0fc3c8a408a149dcd88722aebd063db48\n",
            "  Stored in directory: /root/.cache/pip/wheels/83/97/6b/e9e0cde099cc40f972b8dd23367308f7705ae06cd6d4714658\n",
            "Successfully built japanize-matplotlib\n",
            "Installing collected packages: japanize-matplotlib\n",
            "Successfully installed japanize-matplotlib-1.1.3\n"
          ]
        }
      ]
    },
    {
      "cell_type": "code",
      "source": [
        "_, x_pred, _ = PINN.test()\n",
        "\n",
        "plt.plot(t_sol, x_pred, label = \"pred\", linestyle = \"dashed\")\n",
        "plt.plot(t_sol, v0_sol / omega * np.sin(omega * t_sol), label = \"exact\", linestyle = \"dashdot\")\n",
        "plt.xlabel(\"$t$\")\n",
        "plt.ylabel(\"$x(t)$\")\n",
        "plt.title(\"調和振動子 at $v_{0x}=5, x_0=0$\")\n",
        "plt.legend()\n",
        "# plt.savefig(\"//content//drive//MyDrive//PhyEx2//HarmonicVibrator//HarmonicVibratorAtN10000.png\")\n",
        "plt.show()"
      ],
      "metadata": {
        "colab": {
          "base_uri": "https://localhost:8080/",
          "height": 298
        },
        "id": "uys8PWfsLarp",
        "outputId": "823bd67f-91ce-45a1-e601-43f4dfd6f008"
      },
      "execution_count": null,
      "outputs": [
        {
          "output_type": "display_data",
          "data": {
            "text/plain": [
              "<Figure size 432x288 with 1 Axes>"
            ],
            "image/png": "[encoded data removed]"
          },
          "metadata": {
            "needs_background": "light"
          }
        }
      ]
    },
    {
      "cell_type": "code",
      "source": [],
      "metadata": {
        "id": "N8MlPxKpOcnD"
      },
      "execution_count": null,
      "outputs": []
    }
  ]
}